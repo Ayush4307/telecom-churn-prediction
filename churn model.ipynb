# 📊 Telecom Churn Prediction - EDA & Modeling

## 1. Import Libraries
import pandas as pd
import numpy as np
import matplotlib.pyplot as plt
import seaborn as sns
import xgboost as xgb
from sklearn.model_selection import train_test_split
from sklearn.metrics import accuracy_score, precision_score, recall_score, roc_auc_score
import shap

## 2. Load Dataset
df = pd.read_csv('../data/cleaned_churn_data.csv')
df.head()

## 3. Basic Info
df.info()
df.describe()

## 4. Churn Distribution
sns.countplot(x='Churn', data=df)
plt.title('Churn Distribution')
plt.show()

## 5. Correlation Heatmap
plt.figure(figsize=(10,6))
sns.heatmap(df.corr(), annot=True, cmap='coolwarm')
plt.title('Feature Correlation')
plt.show()

## 6. Encode Target
df['Churn'] = df['Churn'].map({'Yes': 1, 'No': 0})

## 7. Split Features and Target
X = df.drop('Churn', axis=1)
y = df['Churn']

## 8. Train-Test Split
X_train, X_test, y_train, y_test = train_test_split(X, y, stratify=y, test_size=0.2, random_state=42)

## 9. Train XGBoost Model
model = xgb.XGBClassifier(use_label_encoder=False, eval_metric='logloss', random_state=42)
model.fit(X_train, y_train)

## 10. Evaluate Model
y_pred = model.predict(X_test)
print("Accuracy:", accuracy_score(y_test, y_pred))
print("Precision:", precision_score(y_test, y_pred))
print("Recall:", recall_score(y_test, y_pred))
print("ROC-AUC:", roc_auc_score(y_test, y_pred))

## 11. SHAP Interpretation
explainer = shap.Explainer(model)
shap_values = explainer(X_test)

shap.summary_plot(shap_values, X_test)
